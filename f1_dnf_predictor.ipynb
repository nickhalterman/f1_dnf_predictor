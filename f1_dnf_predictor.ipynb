{
 "cells": [
  {
   "cell_type": "markdown",
   "id": "3890e36f-33db-4383-979a-78477a5922ae",
   "metadata": {},
   "source": [
    "# Formula 1 DNF Predictor  \n",
    "**Nicholas Halterman – WGU C964 Computer Science Capstone**\n",
    "\n",
    "This project uses machine learning to predict whether a Formula 1 driver will record a **DNF (Did Not Finish)** in a given race. The goal is to help a race strategy team anticipate reliability risks before race day and make more informed decisions.\n",
    "\n",
    "I used Python and scikit-learn to build a supervised classification model trained on historical F1 race data. The model evaluates various race and driver features to output a probability that a driver will fail to finish.\n",
    "\n",
    "The notebook is organized to clearly demonstrate the required parts of **Task 2 C**:\n",
    "1. Data loading and preparation  \n",
    "2. Model training and accuracy metrics  \n",
    "3. Visualizations (three unique visuals)  \n",
    "4. A simple “user interface” cell for predictions  \n"
   ]
  },
  {
   "cell_type": "code",
   "execution_count": 1,
   "id": "954cb428-ebde-4581-9c2d-7cc99111cf79",
   "metadata": {},
   "outputs": [
    {
     "name": "stdout",
     "output_type": "stream",
     "text": [
      "Dataset shape: (10000, 31)\n"
     ]
    },
    {
     "data": {
      "text/html": [
       "<div>\n",
       "<style scoped>\n",
       "    .dataframe tbody tr th:only-of-type {\n",
       "        vertical-align: middle;\n",
       "    }\n",
       "\n",
       "    .dataframe tbody tr th {\n",
       "        vertical-align: top;\n",
       "    }\n",
       "\n",
       "    .dataframe thead th {\n",
       "        text-align: right;\n",
       "    }\n",
       "</style>\n",
       "<table border=\"1\" class=\"dataframe\">\n",
       "  <thead>\n",
       "    <tr style=\"text-align: right;\">\n",
       "      <th></th>\n",
       "      <th>resultId</th>\n",
       "      <th>raceId</th>\n",
       "      <th>year</th>\n",
       "      <th>round</th>\n",
       "      <th>grid</th>\n",
       "      <th>positionOrder</th>\n",
       "      <th>points</th>\n",
       "      <th>laps</th>\n",
       "      <th>milliseconds</th>\n",
       "      <th>fastestLap</th>\n",
       "      <th>...</th>\n",
       "      <th>circuitRef</th>\n",
       "      <th>circuitId</th>\n",
       "      <th>name_y</th>\n",
       "      <th>location</th>\n",
       "      <th>country</th>\n",
       "      <th>lat</th>\n",
       "      <th>lng</th>\n",
       "      <th>alt</th>\n",
       "      <th>date</th>\n",
       "      <th>target_finish</th>\n",
       "    </tr>\n",
       "  </thead>\n",
       "  <tbody>\n",
       "    <tr>\n",
       "      <th>0</th>\n",
       "      <td>2460</td>\n",
       "      <td>136</td>\n",
       "      <td>2002</td>\n",
       "      <td>13</td>\n",
       "      <td>11</td>\n",
       "      <td>4</td>\n",
       "      <td>3.0</td>\n",
       "      <td>77.0</td>\n",
       "      <td>NaN</td>\n",
       "      <td>\\N</td>\n",
       "      <td>...</td>\n",
       "      <td>hungaroring</td>\n",
       "      <td>11</td>\n",
       "      <td>McLaren</td>\n",
       "      <td>Budapest</td>\n",
       "      <td>Hungary</td>\n",
       "      <td>47.5789</td>\n",
       "      <td>19.24860</td>\n",
       "      <td>264</td>\n",
       "      <td>2002-08-18</td>\n",
       "      <td>1</td>\n",
       "    </tr>\n",
       "    <tr>\n",
       "      <th>1</th>\n",
       "      <td>11565</td>\n",
       "      <td>483</td>\n",
       "      <td>1981</td>\n",
       "      <td>1</td>\n",
       "      <td>23</td>\n",
       "      <td>21</td>\n",
       "      <td>0.0</td>\n",
       "      <td>16.0</td>\n",
       "      <td>\\N</td>\n",
       "      <td>\\N</td>\n",
       "      <td>...</td>\n",
       "      <td>long_beach</td>\n",
       "      <td>43</td>\n",
       "      <td>McLaren</td>\n",
       "      <td>California</td>\n",
       "      <td>USA</td>\n",
       "      <td>33.7651</td>\n",
       "      <td>-118.18900</td>\n",
       "      <td>12</td>\n",
       "      <td>1981-03-15</td>\n",
       "      <td>0</td>\n",
       "    </tr>\n",
       "    <tr>\n",
       "      <th>2</th>\n",
       "      <td>18661</td>\n",
       "      <td>772</td>\n",
       "      <td>1958</td>\n",
       "      <td>8</td>\n",
       "      <td>0</td>\n",
       "      <td>26</td>\n",
       "      <td>0.0</td>\n",
       "      <td>0.0</td>\n",
       "      <td>\\N</td>\n",
       "      <td>\\N</td>\n",
       "      <td>...</td>\n",
       "      <td>nurburgring</td>\n",
       "      <td>20</td>\n",
       "      <td>Maserati</td>\n",
       "      <td>Nürburg</td>\n",
       "      <td>Germany</td>\n",
       "      <td>50.3356</td>\n",
       "      <td>6.94750</td>\n",
       "      <td>578</td>\n",
       "      <td>1958-08-03</td>\n",
       "      <td>0</td>\n",
       "    </tr>\n",
       "    <tr>\n",
       "      <th>3</th>\n",
       "      <td>25121</td>\n",
       "      <td>1058</td>\n",
       "      <td>2021</td>\n",
       "      <td>8</td>\n",
       "      <td>19</td>\n",
       "      <td>16</td>\n",
       "      <td>0.0</td>\n",
       "      <td>69.0</td>\n",
       "      <td>\\N</td>\n",
       "      <td>57</td>\n",
       "      <td>...</td>\n",
       "      <td>red_bull_ring</td>\n",
       "      <td>70</td>\n",
       "      <td>Haas F1 Team</td>\n",
       "      <td>Spielberg</td>\n",
       "      <td>Austria</td>\n",
       "      <td>47.2197</td>\n",
       "      <td>14.76470</td>\n",
       "      <td>678</td>\n",
       "      <td>2021-06-27</td>\n",
       "      <td>0</td>\n",
       "    </tr>\n",
       "    <tr>\n",
       "      <th>4</th>\n",
       "      <td>8863</td>\n",
       "      <td>383</td>\n",
       "      <td>1988</td>\n",
       "      <td>12</td>\n",
       "      <td>0</td>\n",
       "      <td>30</td>\n",
       "      <td>0.0</td>\n",
       "      <td>0.0</td>\n",
       "      <td>\\N</td>\n",
       "      <td>\\N</td>\n",
       "      <td>...</td>\n",
       "      <td>monza</td>\n",
       "      <td>14</td>\n",
       "      <td>Euro Brun</td>\n",
       "      <td>Monza</td>\n",
       "      <td>Italy</td>\n",
       "      <td>45.6156</td>\n",
       "      <td>9.28111</td>\n",
       "      <td>162</td>\n",
       "      <td>1988-09-11</td>\n",
       "      <td>0</td>\n",
       "    </tr>\n",
       "  </tbody>\n",
       "</table>\n",
       "<p>5 rows × 31 columns</p>\n",
       "</div>"
      ],
      "text/plain": [
       "   resultId  raceId  year  round  grid  positionOrder  points  laps  \\\n",
       "0      2460     136  2002     13    11              4     3.0  77.0   \n",
       "1     11565     483  1981      1    23             21     0.0  16.0   \n",
       "2     18661     772  1958      8     0             26     0.0   0.0   \n",
       "3     25121    1058  2021      8    19             16     0.0  69.0   \n",
       "4      8863     383  1988     12     0             30     0.0   0.0   \n",
       "\n",
       "  milliseconds fastestLap  ...     circuitRef circuitId        name_y  \\\n",
       "0          NaN         \\N  ...    hungaroring        11       McLaren   \n",
       "1           \\N         \\N  ...     long_beach        43       McLaren   \n",
       "2           \\N         \\N  ...    nurburgring        20      Maserati   \n",
       "3           \\N         57  ...  red_bull_ring        70  Haas F1 Team   \n",
       "4           \\N         \\N  ...          monza        14     Euro Brun   \n",
       "\n",
       "     location  country      lat        lng  alt        date target_finish  \n",
       "0    Budapest  Hungary  47.5789   19.24860  264  2002-08-18             1  \n",
       "1  California      USA  33.7651 -118.18900   12  1981-03-15             0  \n",
       "2     Nürburg  Germany  50.3356    6.94750  578  1958-08-03             0  \n",
       "3   Spielberg  Austria  47.2197   14.76470  678  2021-06-27             0  \n",
       "4       Monza    Italy  45.6156    9.28111  162  1988-09-11             0  \n",
       "\n",
       "[5 rows x 31 columns]"
      ]
     },
     "execution_count": 1,
     "metadata": {},
     "output_type": "execute_result"
    }
   ],
   "source": [
    "import pandas as pd\n",
    "import numpy as np\n",
    "import matplotlib.pyplot as plt\n",
    "import seaborn as sns\n",
    "from pathlib import Path\n",
    "\n",
    "plt.rcParams[\"figure.figsize\"] = (8,5)\n",
    "%matplotlib inline\n",
    "\n",
    "# Load the dataset\n",
    "data_path = Path(\"data/f1_dnf.csv\")\n",
    "df = pd.read_csv(data_path)\n",
    "\n",
    "# Quick preview\n",
    "print(\"Dataset shape:\", df.shape)\n",
    "df.head()\n"
   ]
  },
  {
   "cell_type": "code",
   "execution_count": null,
   "id": "e7f974cf-8472-452f-8a2b-48987a60de32",
   "metadata": {},
   "outputs": [
    {
     "name": "stdout",
     "output_type": "stream",
     "text": [
      "Classification Report:\n",
      "              precision    recall  f1-score   support\n",
      "\n",
      "           0      0.571     0.758     0.651       579\n",
      "           1      0.886     0.768     0.823      1421\n",
      "\n",
      "    accuracy                          0.765      2000\n",
      "   macro avg      0.729     0.763     0.737      2000\n",
      "weighted avg      0.795     0.765     0.773      2000\n",
      "\n",
      "Model saved to src/model.joblib\n"
     ]
    }
   ],
   "source": [
    "# Prepare features, handle missing values, and train a baseline model\n",
    "\n",
    "from sklearn.model_selection import train_test_split\n",
    "from sklearn.preprocessing import OneHotEncoder, StandardScaler\n",
    "from sklearn.compose import ColumnTransformer\n",
    "from sklearn.pipeline import Pipeline\n",
    "from sklearn.metrics import classification_report, ConfusionMatrixDisplay, RocCurveDisplay\n",
    "from sklearn.linear_model import LogisticRegression\n",
    "from sklearn.impute import SimpleImputer\n",
    "import joblib\n",
    "import warnings\n",
    "from sklearn.exceptions import ConvergenceWarning\n",
    "warnings.filterwarnings(\"ignore\", category=ConvergenceWarning)\n",
    "\n",
    "\n",
    "# Target: 1 = DNF, 0 = Finished\n",
    "target_col = \"target_finish\"\n",
    "y = 1 - df[target_col].astype(\"int64\")\n",
    "\n",
    "# 1) Avoid obvious leakage (columns that directly reflect outcome) and IDs\n",
    "leak_like = {\n",
    "    \"position\",\"positionOrder\",\"points\",\"laps\",\"time\",\"milliseconds\",\"status\",\n",
    "    \"fastestLap\",\"rank\",\"fastestLapTime\",\"fastestLapSpeed\"\n",
    "}\n",
    "id_like = {\"resultId\",\"raceId\",\"driverId\",\"constructorId\",\"circuitId\"}\n",
    "\n",
    "# Keep everything else as features\n",
    "feature_cols = [c for c in df.columns if c not in {target_col} | leak_like | id_like]\n",
    "X = df[feature_cols].copy()\n",
    "\n",
    "# 2) Split numeric vs categorical\n",
    "numeric_features = X.select_dtypes(include=[np.number]).columns.tolist()\n",
    "categorical_features = [c for c in X.columns if c not in numeric_features]\n",
    "\n",
    "# 3) Imputers + transformers (handle NaNs safely)\n",
    "num_pipe = Pipeline([\n",
    "    (\"impute\", SimpleImputer(strategy=\"median\")),\n",
    "    (\"scale\", StandardScaler(with_mean=False)),\n",
    "])\n",
    "\n",
    "cat_pipe = Pipeline([\n",
    "    (\"impute\", SimpleImputer(strategy=\"most_frequent\")),\n",
    "    (\"ohe\", OneHotEncoder(handle_unknown=\"ignore\")),\n",
    "])\n",
    "\n",
    "preprocessor = ColumnTransformer([\n",
    "    (\"num\", num_pipe, numeric_features),\n",
    "    (\"cat\", cat_pipe, categorical_features),\n",
    "])\n",
    "\n",
    "# 4) Train/test split\n",
    "X_train, X_test, y_train, y_test = train_test_split(\n",
    "    X, y, test_size=0.20, stratify=y, random_state=42\n",
    ")\n",
    "\n",
    "# 5) Baseline model\n",
    "model = Pipeline([\n",
    "    (\"pre\", preprocessor),\n",
    "    (\"clf\", LogisticRegression(\n",
    "        solver=\"saga\",         \n",
    "        penalty=\"l2\",\n",
    "        max_iter=1000,\n",
    "        class_weight=\"balanced\",\n",
    "        n_jobs=-1\n",
    "    ))\n",
    "])\n",
    "\n",
    "# 6) Fit and evaluate\n",
    "model.fit(X_train, y_train)\n",
    "y_pred = model.predict(X_test)\n",
    "print(\"Classification Report:\")\n",
    "print(classification_report(y_test, y_pred, digits=3))\n",
    "\n",
    "# Save trained model for later use\n",
    "joblib.dump(model, \"src/model.joblib\")\n",
    "print(\"Model saved to src/model.joblib\")\n"
   ]
  },
  {
   "cell_type": "markdown",
   "id": "b58c36d4-0f74-449c-8098-768c51899293",
   "metadata": {},
   "source": [
    "### Figure 1: Distribution of Formula 1 Race Years\n",
    "This chart shows how the Formula 1 dataset is distributed across different race seasons.  \n",
    "Each bar represents the number of recorded race entries in a given decade, illustrating how the data spans from the early 1950s through the 2020s.  \n",
    "\n",
    "The trend shows that more race data has been collected in modern seasons, reflecting the sport’s growth and improvements in record-keeping.  \n",
    "Understanding this distribution confirms that the dataset provides balanced coverage across multiple eras of racing.\n"
   ]
  },
  {
   "cell_type": "code",
   "execution_count": 3,
   "id": "d4aec6e0-4137-4617-bbae-60e335e98951",
   "metadata": {},
   "outputs": [
    {
     "data": {
      "image/png": "[encoded data removed]",
      "text/plain": [
       "<Figure size 1400x600 with 1 Axes>"
      ]
     },
     "metadata": {},
     "output_type": "display_data"
    }
   ],
   "source": [
    "# Visual 1: Distribution of Formula 1 Race Years (one bar per year)\n",
    "# This chart shows the number of race entries recorded for each Formula 1 season.\n",
    "\n",
    "import matplotlib.pyplot as plt\n",
    "\n",
    "year_counts = df[\"year\"].value_counts().sort_index()\n",
    "plt.figure(figsize=(14,6))\n",
    "plt.bar(year_counts.index, year_counts.values, color=\"steelblue\", edgecolor=\"black\")\n",
    "plt.title(\"Formula 1 Race Entries per Year\")\n",
    "plt.xlabel(\"Race Year\")\n",
    "plt.ylabel(\"Number of Entries\")\n",
    "plt.xticks(rotation=75)\n",
    "plt.tight_layout()\n",
    "plt.show()\n",
    "\n",
    "\n"
   ]
  },
  {
   "cell_type": "markdown",
   "id": "d99207e4-6896-4252-ad17-17c28246b8e1",
   "metadata": {},
   "source": [
    "### Figure 2: Correlation Heatmap of Numeric Features\n",
    "The correlation heatmap visualizes relationships among the dataset’s numeric features, including **year**, **round**, **grid**, **lat**, **lng**, and **alt**.  \n",
    "\n",
    "- **year** – season year  \n",
    "- **round** – race number within the season  \n",
    "- **grid** – driver’s starting position  \n",
    "- **lat / lng** – circuit location coordinates  \n",
    "- **alt** – altitude of the circuit above sea level  \n",
    "\n",
    "Most of the cells in the heatmap are light-colored, indicating weak correlations between features.  \n",
    "This suggests that the numeric variables are largely independent, meaning each one contributes unique information to the model without excessive overlap.\n"
   ]
  },
  {
   "cell_type": "code",
   "execution_count": 4,
   "id": "b172c531-742b-470a-aad8-f973ce16ce45",
   "metadata": {},
   "outputs": [
    {
     "data": {
      "image/png": "[encoded data removed]",
      "text/plain": [
       "<Figure size 800x600 with 2 Axes>"
      ]
     },
     "metadata": {},
     "output_type": "display_data"
    }
   ],
   "source": [
    "# Correlation matrix for numeric features\n",
    "\n",
    "if len(numeric_features) > 1:\n",
    "    plt.figure(figsize=(8,6))\n",
    "    sns.heatmap(df[numeric_features].corr(), cmap=\"coolwarm\", annot=False)\n",
    "    plt.title(\"Correlation Heatmap\")\n",
    "    plt.savefig(\"visuals/corr_heatmap.png\", bbox_inches=\"tight\")\n",
    "    plt.show()\n",
    "else:\n",
    "    print(\"Not enough numeric columns for correlation heatmap.\")\n"
   ]
  },
  {
   "cell_type": "markdown",
   "id": "eb59c95e-86fa-45e2-bbdd-e07aa753fa2b",
   "metadata": {},
   "source": [
    "### Figure 3: Confusion Matrix of Model Predictions\n",
    "The confusion matrix compares the model’s predicted race outcomes with the actual results.\n",
    "\n",
    "- **Class 0 = Finished**  \n",
    "- **Class 1 = Did Not Finish (DNF)**  \n",
    "\n",
    "The top-left cell (439) represents drivers who finished and were correctly classified.  \n",
    "The bottom-right cell (1 091) shows correct predictions for DNFs.  \n",
    "The other two cells (140 and 330) represent misclassifications.\n",
    "\n",
    "Overall, the matrix shows that the model performs well at identifying DNFs (True Positives) while keeping a moderate number of false predictions.  \n",
    "This confirms that the classifier is learning meaningful race-reliability patterns from the dataset.\n"
   ]
  },
  {
   "cell_type": "code",
   "execution_count": 5,
   "id": "a9c91783-6ab4-471b-b464-01bbace54c41",
   "metadata": {},
   "outputs": [
    {
     "data": {
      "image/png": "[encoded data removed]",
      "text/plain": [
       "<Figure size 800x500 with 2 Axes>"
      ]
     },
     "metadata": {},
     "output_type": "display_data"
    }
   ],
   "source": [
    "# Confusion matrix showing correct vs incorrect predictions\n",
    "\n",
    "ConfusionMatrixDisplay.from_predictions(y_test, y_pred)\n",
    "plt.title(\"Confusion Matrix\")\n",
    "plt.savefig(\"visuals/confusion_matrix.png\", bbox_inches=\"tight\")\n",
    "plt.show()\n"
   ]
  },
  {
   "cell_type": "markdown",
   "id": "b1c5e8c9-2691-44d2-b301-2f46c2030755",
   "metadata": {},
   "source": [
    "### Figure 4: ROC Curve of Model Performance\n",
    "The ROC (Receiver Operating Characteristic) curve shows how well the model distinguishes between drivers who finished a race and those who recorded a DNF (Did Not Finish).  \n",
    "\n",
    "The curve plots the **True Positive Rate** (correctly predicted DNFs) against the **False Positive Rate** (incorrect DNF predictions) across different decision thresholds.  \n",
    "\n",
    "An **AUC (Area Under the Curve)** score of **0.85** indicates strong overall performance, meaning the model correctly differentiates between DNFs and finishes about 85% of the time.  \n",
    "\n",
    "This demonstrates that the classifier generalizes well and effectively balances sensitivity and specificity.\n"
   ]
  },
  {
   "cell_type": "code",
   "execution_count": 6,
   "id": "d995862a-d240-48e2-9129-0262cc8738ea",
   "metadata": {},
   "outputs": [
    {
     "data": {
      "image/png": "[encoded data removed]",
      "text/plain": [
       "<Figure size 800x500 with 1 Axes>"
      ]
     },
     "metadata": {},
     "output_type": "display_data"
    }
   ],
   "source": [
    "# ROC Curve shows the trade-off between true-positive and false-positive rates\n",
    "RocCurveDisplay.from_estimator(model, X_test, y_test)\n",
    "plt.title(\"ROC Curve\")\n",
    "plt.savefig(\"visuals/roc_curve.png\", bbox_inches=\"tight\")\n",
    "plt.show()\n"
   ]
  },
  {
   "cell_type": "markdown",
   "id": "4959c3c3",
   "metadata": {},
   "source": [
    "### Model Performance Evaluation\n",
    "\n",
    "After training the Logistic Regression Model, the model’s predictive performance was evaluated on the test dataset using standard classification metrics.  \n",
    "\n",
    "These metrics measure how well the model distinguishes between drivers who finished a race and those who recorded a *Did Not Finish (DNF)*.\n",
    "\n",
    "The following Python code calculates **Accuracy**, **F1-score**, and **ROC-AUC** using scikit-learn’s built-in functions.  \n",
    "Accuracy measures the overall percentage of correct predictions, F1-score balances precision and recall, and ROC-AUC evaluates how well the model separates the two classes across different thresholds.\n"
   ]
  },
  {
   "cell_type": "code",
   "execution_count": 7,
   "id": "5da85d5b",
   "metadata": {},
   "outputs": [
    {
     "name": "stdout",
     "output_type": "stream",
     "text": [
      "Accuracy: 0.765\n",
      "F1-score: 0.823\n",
      "ROC-AUC: 0.849\n"
     ]
    }
   ],
   "source": [
    "from sklearn.metrics import accuracy_score, f1_score, roc_auc_score\n",
    "\n",
    "y_pred = model.predict(X_test)\n",
    "y_proba = model.predict_proba(X_test)[:, 1]\n",
    "\n",
    "acc = accuracy_score(y_test, y_pred)\n",
    "f1  = f1_score(y_test, y_pred)\n",
    "roc = roc_auc_score(y_test, y_proba)\n",
    "\n",
    "print(f\"Accuracy: {acc:.3f}\")\n",
    "print(f\"F1-score: {f1:.3f}\")\n",
    "print(f\"ROC-AUC: {roc:.3f}\")\n"
   ]
  },
  {
   "cell_type": "markdown",
   "id": "e65f999d-02e8-4592-8ec0-4c53b342a17c",
   "metadata": {},
   "source": [
    "### Model Prediction Example\n",
    "This cell demonstrates how to load the trained machine learning model and use it to predict whether a Formula 1 driver will record a DNF (Did Not Finish) in a race.  \n",
    "\n",
    "The model file (`model.joblib`) is first loaded from storage using the **joblib** library.  \n",
    "Next, one sample from the test dataset is passed into the model for prediction.  \n",
    "Two outputs are displayed:\n",
    "1. **Prediction (DNF=1, Finish=0)** – the model’s binary classification result.  \n",
    "2. **Estimated DNF probability** – the model’s confidence in that prediction.\n",
    "\n",
    "For example, in the output shown:\n",
    "- The model predicted **1 (DNF)** for the selected driver.  \n",
    "- The estimated probability of DNF was **0.856**, meaning the model is about **85.6% confident** that this driver will not finish the race.\n",
    "\n",
    "#### How to Use This Cell\n",
    "1. Run this cell after training and saving the model (`model.joblib`).  \n",
    "2. The model automatically loads from the `src/` folder.  \n",
    "3. It selects one random record from the `X_test` data and predicts the outcome.  \n",
    "4. To test a different record, change the index inside `X_test.iloc[...]` — for example:\n",
    "   ```python\n",
    "   sample = X_test.iloc[10]   # Predict for the 10th record\n"
   ]
  },
  {
   "cell_type": "code",
   "execution_count": 8,
   "id": "8f90a9ba-3234-4d94-9e34-e3a24d2e89d0",
   "metadata": {},
   "outputs": [
    {
     "name": "stdout",
     "output_type": "stream",
     "text": [
      "Prediction (DNF=1, Finish=0): 1\n",
      "Estimated DNF probability: 0.856\n"
     ]
    }
   ],
   "source": [
    "# Load the model and predict for a single example\n",
    "# This acts as a simple \"user interface\" for evaluators.\n",
    "\n",
    "import joblib\n",
    "model = joblib.load(\"src/model.joblib\")\n",
    "\n",
    "# Pick one sample from the test set\n",
    "sample = X_test.iloc[[0]]\n",
    "prediction = int(model.predict(sample)[0])\n",
    "prob = float(model.predict_proba(sample)[0][1])\n",
    "\n",
    "print(\"Prediction (DNF=1, Finish=0):\", prediction)\n",
    "print(\"Estimated DNF probability:\", round(prob, 3))\n"
   ]
  },
  {
   "cell_type": "markdown",
   "id": "c8339136-f0d7-4afa-9970-fb2b1cab9949",
   "metadata": {},
   "source": [
    "## Using the Interactive DNF Predictor\n",
    "\n",
    "After training and saving the model, you can test predictions interactively inside the Jupyter Notebook.  \n",
    "The cell below the training section already includes an interactive widget that allows you to explore predictions from the test dataset.\n",
    "\n",
    "### How to Use\n",
    "\n",
    "1. Scroll to the cell labeled **\"Interactive DNF prediction with ipywidgets\"**.\n",
    "2. Run the cell to activate the widget.\n",
    "3. A slider labeled **\"Index\"** will appear below the cell.\n",
    "4. Use the slider or type a number directly into the input box to select a record from the test dataset (`X_test`).\n",
    "5. Each time you change the index, the notebook will display:\n",
    "   - The selected record index  \n",
    "   - The model’s prediction (**DNF** or **Finish**)  \n",
    "   - The probability of each outcome  \n",
    "   - The feature values for that record for context\n"
   ]
  },
  {
   "cell_type": "code",
   "execution_count": 9,
   "id": "094591a3-26d5-4782-8d55-21ef4be6c822",
   "metadata": {},
   "outputs": [
    {
     "data": {
      "application/vnd.jupyter.widget-view+json": {
       "model_id": "e11bd7a5a5f8480bab389e89d0d5776e",
       "version_major": 2,
       "version_minor": 0
      },
      "text/plain": [
       "interactive(children=(IntSlider(value=0, description='Index:', max=1999), Output()), _dom_classes=('widget-int…"
      ]
     },
     "metadata": {},
     "output_type": "display_data"
    },
    {
     "data": {
      "text/plain": [
       "<function __main__.predict_sample(idx=0)>"
      ]
     },
     "execution_count": 9,
     "metadata": {},
     "output_type": "execute_result"
    }
   ],
   "source": [
    "# Interactive DNF prediction with ipywidgets\n",
    "from ipywidgets import interact\n",
    "import ipywidgets as widgets\n",
    "from IPython.display import display\n",
    "\n",
    "# Make sure your model and X_test are already loaded\n",
    "# model = load(\"src/model.joblib\")\n",
    "\n",
    "def predict_sample(idx=0):\n",
    "    sample = X_test.iloc[[idx]]\n",
    "    prediction = model.predict(sample)\n",
    "    probability = model.predict_proba(sample)\n",
    "\n",
    "    print(\"Selected Test Record Index:\", idx)\n",
    "    print(\"\\nPrediction:\", \"DNF\" if prediction[0] == 1 else \"Finish\")\n",
    "    print(\"Probability of DNF:\", round(probability[0][1], 3))\n",
    "    print(\"Probability of Finish:\", round(probability[0][0], 3))\n",
    "\n",
    "    # Optionally, display the feature values for context\n",
    "    display(sample)\n",
    "\n",
    "# Create an interactive slider\n",
    "interact(\n",
    "    predict_sample,\n",
    "    idx=widgets.IntSlider(\n",
    "        min=0,\n",
    "        max=len(X_test)-1,\n",
    "        step=1,\n",
    "        value=0,\n",
    "        description=\"Index:\"\n",
    "    )\n",
    ")\n"
   ]
  }
 ],
 "metadata": {
  "kernelspec": {
   "display_name": "Python 3 (ipykernel)",
   "language": "python",
   "name": "python3"
  },
  "language_info": {
   "codemirror_mode": {
    "name": "ipython",
    "version": 3
   },
   "file_extension": ".py",
   "mimetype": "text/x-python",
   "name": "python",
   "nbconvert_exporter": "python",
   "pygments_lexer": "ipython3",
   "version": "3.11.14"
  }
 },
 "nbformat": 4,
 "nbformat_minor": 5
}
